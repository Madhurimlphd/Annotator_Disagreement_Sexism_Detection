{
 "cells": [
  {
   "cell_type": "markdown",
   "metadata": {
    "id": "ir71IrVLZf8l"
   },
   "source": [
    "https://medium.com/@somasunder/fine-tuning-bert-for-text-classification-a-step-by-step-guide-with-code-examples-0dea8513bcf2"
   ]
  },
  {
   "cell_type": "code",
   "execution_count": 1,
   "metadata": {
    "executionInfo": {
     "elapsed": 46548,
     "status": "ok",
     "timestamp": 1740051852349,
     "user": {
      "displayName": "Madhuri Sawant",
      "userId": "03320056115614970667"
     },
     "user_tz": 0
    },
    "id": "Ke_C4inEZiKF"
   },
   "outputs": [
    {
     "name": "stderr",
     "output_type": "stream",
     "text": [
      "/Library/Frameworks/Python.framework/Versions/3.10/lib/python3.10/site-packages/tqdm/auto.py:21: TqdmWarning: IProgress not found. Please update jupyter and ipywidgets. See https://ipywidgets.readthedocs.io/en/stable/user_install.html\n",
      "  from .autonotebook import tqdm as notebook_tqdm\n"
     ]
    }
   ],
   "source": [
    "import pandas as pd\n",
    "from sklearn.model_selection import train_test_split\n",
    "from sklearn.preprocessing import LabelEncoder\n",
    "import torch\n",
    "from transformers import BertTokenizer, BertForSequenceClassification,RobertaTokenizer,RobertaForSequenceClassification\n",
    "from torch.utils.data import Dataset, DataLoader\n",
    "from torch.optim import AdamW\n",
    "from tqdm import tqdm\n",
    "from sklearn.metrics import f1_score, precision_score,recall_score"
   ]
  },
  {
   "cell_type": "code",
   "execution_count": 2,
   "metadata": {
    "executionInfo": {
     "elapsed": 965,
     "status": "ok",
     "timestamp": 1740051853312,
     "user": {
      "displayName": "Madhuri Sawant",
      "userId": "03320056115614970667"
     },
     "user_tz": 0
    },
    "id": "fziSLiFuZnxr"
   },
   "outputs": [],
   "source": [
    "#data = pd.read_excel(\"/content/drive/MyDrive/Experiment2/expanded_annotator_dataset.xlsx\")\n",
    "\n",
    "#data=pd.read_csv(\"/content/drive/MyDrive/Experiment2/sentiment_analysis.csv\")\n",
    "#file_path=\"/content/drive/MyDrive/Experiment2/EXIST2023_Task1_en.xlsx\"\n",
    "#file_path=\"/content/drive/MyDrive/Experiment2/Complete_agreement_records.xlsx\"\n",
    "#file_path=\"/content/drive/MyDrive/Experiment2/EXIST2023_Task1_age.xlsx\"\n",
    "#file_path=\"/content/drive/MyDrive/Experiment2/age3_agreement_records.xlsx\"\n",
    "\n",
    "file_path=\"dataset/Complete_agreement_records.xlsx\"\n",
    "data = pd.read_excel(file_path)\n",
    "\n",
    "# Encode labels into numeric format\n",
    "#label_encoder = LabelEncoder()\n",
    "#data[\"label_encoded\"] = label_encoder.fit_transform(data[\"label_task1\"])\n",
    "\n",
    "# Split into training and validation sets\n",
    "#train_texts, val_texts, train_labels, val_labels = train_test_split(data[\"tweet\"].values, data[\"label_encoded\"].values,test_size=0.2, random_state=42,)\n"
   ]
  },
  {
   "cell_type": "code",
   "execution_count": 3,
   "metadata": {
    "executionInfo": {
     "elapsed": 2,
     "status": "ok",
     "timestamp": 1740051853319,
     "user": {
      "displayName": "Madhuri Sawant",
      "userId": "03320056115614970667"
     },
     "user_tz": 0
    },
    "id": "HsaJfRICwlNN"
   },
   "outputs": [],
   "source": [
    "data = data.reset_index(drop=True)"
   ]
  },
  {
   "cell_type": "code",
   "execution_count": 4,
   "metadata": {
    "executionInfo": {
     "elapsed": 13,
     "status": "ok",
     "timestamp": 1740051853331,
     "user": {
      "displayName": "Madhuri Sawant",
      "userId": "03320056115614970667"
     },
     "user_tz": 0
    },
    "id": "2UpqQFqpwZbt"
   },
   "outputs": [],
   "source": [
    "#data = data.dropna(subset=[\"tweet\", \"majority_vote\",\"female_vote\",\"male_vote\"])\n",
    "#data = data.dropna(subset=[\"tweet\", \"majority_vote\",\"age1_vote\",\"age2_vote\",\"age3_vote\"])\n",
    "data = data.dropna(subset=[\"tweet\", \"majority_vote\"])"
   ]
  },
  {
   "cell_type": "code",
   "execution_count": 5,
   "metadata": {
    "executionInfo": {
     "elapsed": 5,
     "status": "ok",
     "timestamp": 1740051853338,
     "user": {
      "displayName": "Madhuri Sawant",
      "userId": "03320056115614970667"
     },
     "user_tz": 0
    },
    "id": "cJoKGuPGuza6"
   },
   "outputs": [],
   "source": [
    "import re\n",
    "\n",
    "def remove_urls_and_lower(text):\n",
    "    # Define the regex pattern for URLs starting with http or https\n",
    "    url_pattern = re.compile(r'http[s]?://\\S+')\n",
    "    # Substitute the URLs with an empty string\n",
    "    cleaned_text = url_pattern.sub('', text)\n",
    "    cleaned_text = cleaned_text.lower()\n",
    "    return cleaned_text.strip()"
   ]
  },
  {
   "cell_type": "code",
   "execution_count": 6,
   "metadata": {
    "executionInfo": {
     "elapsed": 109,
     "status": "ok",
     "timestamp": 1740051853454,
     "user": {
      "displayName": "Madhuri Sawant",
      "userId": "03320056115614970667"
     },
     "user_tz": 0
    },
    "id": "nCiEuIyku1iW"
   },
   "outputs": [],
   "source": [
    "tweet_processed=data[\"tweet\"].apply(remove_urls_and_lower)"
   ]
  },
  {
   "cell_type": "code",
   "execution_count": 7,
   "metadata": {
    "colab": {
     "base_uri": "https://localhost:8080/"
    },
    "executionInfo": {
     "elapsed": 5,
     "status": "ok",
     "timestamp": 1740051853458,
     "user": {
      "displayName": "Madhuri Sawant",
      "userId": "03320056115614970667"
     },
     "user_tz": 0
    },
    "id": "KamRP8nqva5I",
    "outputId": "dac0b45e-3f67-4256-9bdc-2a107965841f"
   },
   "outputs": [
    {
     "data": {
      "text/plain": [
       "1090"
      ]
     },
     "execution_count": 7,
     "metadata": {},
     "output_type": "execute_result"
    }
   ],
   "source": [
    "len(tweet_processed)"
   ]
  },
  {
   "cell_type": "code",
   "execution_count": 8,
   "metadata": {
    "colab": {
     "base_uri": "https://localhost:8080/"
    },
    "executionInfo": {
     "elapsed": 3,
     "status": "ok",
     "timestamp": 1740051853462,
     "user": {
      "displayName": "Madhuri Sawant",
      "userId": "03320056115614970667"
     },
     "user_tz": 0
    },
    "id": "8HawL5aSvdqf",
    "outputId": "44e2c327-6556-43e5-cb80-ef8d01b82e71"
   },
   "outputs": [
    {
     "data": {
      "text/plain": [
       "1090"
      ]
     },
     "execution_count": 8,
     "metadata": {},
     "output_type": "execute_result"
    }
   ],
   "source": [
    "len(data[\"majority_vote\"])"
   ]
  },
  {
   "cell_type": "code",
   "execution_count": 9,
   "metadata": {
    "executionInfo": {
     "elapsed": 8,
     "status": "ok",
     "timestamp": 1740051853471,
     "user": {
      "displayName": "Madhuri Sawant",
      "userId": "03320056115614970667"
     },
     "user_tz": 0
    },
    "id": "CR4eJQNMu349"
   },
   "outputs": [],
   "source": [
    "\n",
    "train_texts, val_texts, train_labels, val_labels = train_test_split(tweet_processed.values, data[\"majority_vote\"].values,test_size=0.2, random_state=42,)\n",
    "#train_texts, val_texts, train_labels, val_labels = train_test_split(tweet_processed.values, data[\"female_vote\"].values,test_size=0.2, random_state=42,)\n",
    "#train_texts, val_texts, train_labels, val_labels = train_test_split(tweet_processed.values, data[\"male_vote\"].values,test_size=0.2, random_state=42,)\n",
    "#train_texts, val_texts, train_labels, val_labels = train_test_split(data[\"tweet\"].values, data[\"age1_vote\"].values,test_size=0.2, random_state=42,)\n",
    "#train_texts, val_texts, train_labels, val_labels = train_test_split(data[\"tweet\"].values, data[\"age2_vote\"].values,test_size=0.2, random_state=42,)\n",
    "#train_texts, val_texts, train_labels, val_labels = train_test_split(data[\"tweet\"].values, data[\"age3_vote\"].values,test_size=0.2, random_state=42,)"
   ]
  },
  {
   "cell_type": "code",
   "execution_count": 10,
   "metadata": {
    "colab": {
     "base_uri": "https://localhost:8080/"
    },
    "executionInfo": {
     "elapsed": 7,
     "status": "ok",
     "timestamp": 1740051853471,
     "user": {
      "displayName": "Madhuri Sawant",
      "userId": "03320056115614970667"
     },
     "user_tz": 0
    },
    "id": "yKosflQYyYaM",
    "outputId": "1ddd04bf-584b-468f-ce25-b1894a709b25"
   },
   "outputs": [
    {
     "name": "stdout",
     "output_type": "stream",
     "text": [
      "872 872\n",
      "218 218\n"
     ]
    }
   ],
   "source": [
    "print(len(train_texts), len(train_labels))\n",
    "print(len(val_texts), len(val_labels))"
   ]
  },
  {
   "cell_type": "markdown",
   "metadata": {
    "id": "kzs7Gn4P64Mb"
   },
   "source": [
    "Tokenizer and Dataset Class"
   ]
  },
  {
   "cell_type": "code",
   "execution_count": 11,
   "metadata": {
    "colab": {
     "base_uri": "https://localhost:8080/",
     "height": 272,
     "referenced_widgets": [
      "81d1f3b551af409daec3ab957b880ff7",
      "a0e2b853230f49e8a11089a1156e21a0",
      "ce28058b6e1243abb9b326dac03d18e8",
      "fd43e9e37a6f479f9b6bdc18480e1cef",
      "349a2f824e0043a3acbb9e43e139658a",
      "e14b047ab19f4476bdee11576f614dc6",
      "b21c0b92ee4b473a91e8dca50d2e8be5",
      "2f8c11ecba214a17a395d0d303728b41",
      "60a0fe8e590f4be683cd0f7b41ba0459",
      "f7feb526ae844d15ab96a4a3641d2f61",
      "3ae2312eb39143c88682518086cb60a1",
      "b68013937cbd43d69e09b74199bac549",
      "485485bd75a6477c918039131ae856dd",
      "a1564ff12e994834adbe17eba8d0b35a",
      "81f25d46f73742acb9343b8becbd42ff",
      "3dc668e809cd49b1a9e862437681c929",
      "eeb3c6a0d5da42d19d2faec4f6343623",
      "33fa1c8ceead4629824d4190b115b879",
      "909c0000fb1d4ce89560ca59c5892fbd",
      "48e4d4b5701c4a3da1bac59d89f42d85",
      "8a18c6a37b5c4d8eac1c09c33356cd92",
      "40167685b5e5472789cd9c287fe51558",
      "063cc1c77fa94b4ebfdb8bf932c429f8",
      "e3ced59503414557b906078757fc6754",
      "fcbfd5c3659444549d414878fe1e02c4",
      "26e62c004b774cdb89653624b2c237ee",
      "1786120432244b78a4e7fa5363b11937",
      "e2faae6b63de40e49cfe8fe88fc7695d",
      "325223b206b14d4882e91ac254a91383",
      "2a3bc44572d14320b0b4bcfed87cf356",
      "6aa294a7bbb84ec7a3ed9225a207658f",
      "0292e48e8781450294521c9ef60eacd8",
      "c56ec0e295924f9ebdcebf3577049515",
      "6bb833ba6fc14e009690b3c9fb0a6db3",
      "a4713f5863514d21b908d45679885202",
      "837beb9dbf3b4befb7b443446b2ddba4",
      "da84270d40a346f7863efdd7bbe32de3",
      "2df33e3247ce46a5aa1959b07ab25025",
      "db0d0e2550f44a8591de707fa27dcfe6",
      "1804d357a55a446899d26458abcabf25",
      "9b6e62665a6d46d4853f5038cb24c279",
      "a077a45de316493e838ea557aee7e235",
      "f8db7ae0beb44e019a5f21dae8b23bd7",
      "e45ea30f92bb4f1d82e6e928f7e7790a"
     ]
    },
    "executionInfo": {
     "elapsed": 2060,
     "status": "ok",
     "timestamp": 1740051855532,
     "user": {
      "displayName": "Madhuri Sawant",
      "userId": "03320056115614970667"
     },
     "user_tz": 0
    },
    "id": "KkdD_5DJaB5k",
    "outputId": "5877144f-f3d1-4274-a515-d246bc06c92a"
   },
   "outputs": [],
   "source": [
    "tokenizer = BertTokenizer.from_pretrained(\"bert-base-uncased\")\n",
    "#tokenizer = BertTokenizer.from_pretrained(\"distilbert-base-uncased\")"
   ]
  },
  {
   "cell_type": "code",
   "execution_count": 12,
   "metadata": {
    "executionInfo": {
     "elapsed": 13,
     "status": "ok",
     "timestamp": 1740051855547,
     "user": {
      "displayName": "Madhuri Sawant",
      "userId": "03320056115614970667"
     },
     "user_tz": 0
    },
    "id": "UutyXNLvaECj"
   },
   "outputs": [],
   "source": [
    "class ClassificationDataset(Dataset):\n",
    "    def __init__(self, texts, labels, tokenizer, max_len):\n",
    "        self.texts = texts\n",
    "        self.labels = labels\n",
    "        self.tokenizer = tokenizer\n",
    "        self.max_len = max_len\n",
    "\n",
    "    def __len__(self):\n",
    "        return len(self.texts)\n",
    "\n",
    "    def __getitem__(self, idx):\n",
    "        text = self.texts[idx]\n",
    "        label = self.labels[idx]\n",
    "        encoding = self.tokenizer(\n",
    "            text,\n",
    "            add_special_tokens=True,\n",
    "            max_length=self.max_len,\n",
    "            padding=\"max_length\",\n",
    "            truncation=True,\n",
    "            return_tensors=\"pt\",\n",
    "        )\n",
    "        return {\n",
    "            \"input_ids\": encoding[\"input_ids\"].squeeze(0),\n",
    "            \"attention_mask\": encoding[\"attention_mask\"].squeeze(0),\n",
    "            \"label\": torch.tensor(label, dtype=torch.long),\n",
    "        }\n",
    "\n",
    "# Define dataset\n",
    "max_len = 128\n",
    "train_dataset = ClassificationDataset(train_texts, train_labels, tokenizer, max_len)\n",
    "val_dataset = ClassificationDataset(val_texts, val_labels, tokenizer, max_len)\n",
    "\n",
    "# Create DataLoaders\n",
    "batch_size = 16\n",
    "train_loader = DataLoader(train_dataset, batch_size=batch_size, shuffle=True)\n",
    "val_loader = DataLoader(val_dataset, batch_size=batch_size, shuffle=False)"
   ]
  },
  {
   "cell_type": "markdown",
   "metadata": {
    "id": "nxGB9LKB6_bB"
   },
   "source": [
    "Model setup"
   ]
  },
  {
   "cell_type": "code",
   "execution_count": 13,
   "metadata": {
    "colab": {
     "base_uri": "https://localhost:8080/",
     "height": 85,
     "referenced_widgets": [
      "8ce422d45d0c49e19416fed5172ad6e0",
      "95fe9120487d46f283a8d5672af6d0f4",
      "49560608729047669f048c864c2d98ef",
      "cb8e03a8fab14f7fb068bdb050896540",
      "f6322c847b2d423fbd90d2da337f517c",
      "4c1be2a2c8d94cb588b18bb66bb1b9ca",
      "689730ea4f3940dcb80bebf50b663270",
      "5e7bdc26004b493291df6f1e94340d58",
      "6ebc8e1d7efe4c2c9c830f372575eda7",
      "bde71f3dc6144ecbb76c8e68f964ecd9",
      "c54a5eb971c94bc89805ba3059b933ab"
     ]
    },
    "executionInfo": {
     "elapsed": 3121,
     "status": "ok",
     "timestamp": 1740051858667,
     "user": {
      "displayName": "Madhuri Sawant",
      "userId": "03320056115614970667"
     },
     "user_tz": 0
    },
    "id": "zJmaCC74aK21",
    "outputId": "8c6384fd-87bb-4fc8-a2d2-5994c41ed152"
   },
   "outputs": [
    {
     "name": "stderr",
     "output_type": "stream",
     "text": [
      "Some weights of BertForSequenceClassification were not initialized from the model checkpoint at bert-base-uncased and are newly initialized: ['classifier.bias', 'classifier.weight']\n",
      "You should probably TRAIN this model on a down-stream task to be able to use it for predictions and inference.\n"
     ]
    }
   ],
   "source": [
    "# Model and Device Setup\n",
    "device = torch.device(\"cuda\" if torch.cuda.is_available() else \"cpu\")\n",
    "#model = BertForSequenceClassification.from_pretrained( \"bert-base-uncased\",num_labels=len(label_encoder.classes_))\n",
    "model = BertForSequenceClassification.from_pretrained(\"bert-base-uncased\",num_labels=2)\n",
    "#model = BertForSequenceClassification.from_pretrained(\"distilbert-base-uncased\",num_labels=2)\n",
    "\n",
    "model.to(device)\n",
    "\n",
    "# Optimizer\n",
    "optimizer = AdamW(model.parameters(), lr=5e-5)"
   ]
  },
  {
   "cell_type": "markdown",
   "metadata": {
    "id": "MFHGQpjQ7B3H"
   },
   "source": [
    "Training loop"
   ]
  },
  {
   "cell_type": "code",
   "execution_count": 14,
   "metadata": {
    "colab": {
     "base_uri": "https://localhost:8080/"
    },
    "executionInfo": {
     "elapsed": 52766,
     "status": "ok",
     "timestamp": 1740051911424,
     "user": {
      "displayName": "Madhuri Sawant",
      "userId": "03320056115614970667"
     },
     "user_tz": 0
    },
    "id": "CNPLPd06aPs9",
    "outputId": "916bfbd9-a745-44b9-f4e1-224d2703df6a"
   },
   "outputs": [
    {
     "name": "stderr",
     "output_type": "stream",
     "text": [
      "Epoch 0: 100%|██████████| 55/55 [01:59<00:00,  2.18s/it, loss=0.599]\n"
     ]
    },
    {
     "name": "stdout",
     "output_type": "stream",
     "text": [
      "Epoch 0 Loss: 0.5339977199381049\n"
     ]
    },
    {
     "name": "stderr",
     "output_type": "stream",
     "text": [
      "Epoch 1: 100%|██████████| 55/55 [02:05<00:00,  2.28s/it, loss=0.0577]\n"
     ]
    },
    {
     "name": "stdout",
     "output_type": "stream",
     "text": [
      "Epoch 1 Loss: 0.23253824724392458\n"
     ]
    },
    {
     "name": "stderr",
     "output_type": "stream",
     "text": [
      "Epoch 2: 100%|██████████| 55/55 [02:09<00:00,  2.35s/it, loss=0.0214] "
     ]
    },
    {
     "name": "stdout",
     "output_type": "stream",
     "text": [
      "Epoch 2 Loss: 0.08195084397765723\n"
     ]
    },
    {
     "name": "stderr",
     "output_type": "stream",
     "text": [
      "\n"
     ]
    }
   ],
   "source": [
    "# Training Loop\n",
    "epochs = 3\n",
    "for epoch in range(epochs):\n",
    "    model.train()\n",
    "    total_loss = 0\n",
    "    loop = tqdm(train_loader, leave=True)\n",
    "\n",
    "    for batch in loop:\n",
    "        optimizer.zero_grad()\n",
    "        input_ids = batch[\"input_ids\"].to(device)\n",
    "        attention_mask = batch[\"attention_mask\"].to(device)\n",
    "        labels = batch[\"label\"].to(device)\n",
    "\n",
    "        outputs = model(input_ids=input_ids, attention_mask=attention_mask, labels=labels)\n",
    "        loss = outputs.loss\n",
    "        total_loss += loss.item()\n",
    "\n",
    "        loss.backward()\n",
    "        optimizer.step()\n",
    "\n",
    "        loop.set_description(f\"Epoch {epoch}\")\n",
    "        loop.set_postfix(loss=loss.item())\n",
    "\n",
    "    print(f\"Epoch {epoch} Loss: {total_loss / len(train_loader)}\")\n"
   ]
  },
  {
   "cell_type": "markdown",
   "metadata": {
    "id": "AJkH-DiY7ELY"
   },
   "source": [
    "Evaluation"
   ]
  },
  {
   "cell_type": "code",
   "execution_count": 15,
   "metadata": {
    "colab": {
     "base_uri": "https://localhost:8080/"
    },
    "executionInfo": {
     "elapsed": 1395,
     "status": "ok",
     "timestamp": 1740051912820,
     "user": {
      "displayName": "Madhuri Sawant",
      "userId": "03320056115614970667"
     },
     "user_tz": 0
    },
    "id": "3MtsLcR2aSLO",
    "outputId": "bd689b5b-24eb-4503-f8fc-1d95a1620f05"
   },
   "outputs": [
    {
     "name": "stdout",
     "output_type": "stream",
     "text": [
      "Validation Accuracy: 0.9450\n",
      "F1 Score (Macro): 0.9359\n",
      "Precision (Macro): 0.9519\n",
      "Recall (Macro): 0.9237\n"
     ]
    }
   ],
   "source": [
    "# Evaluation\n",
    "model.eval()\n",
    "correct = 0\n",
    "total = 0\n",
    "all_predictions=[]\n",
    "all_labels=[]\n",
    "\n",
    "with torch.no_grad():\n",
    "    for batch in val_loader:\n",
    "        input_ids = batch[\"input_ids\"].to(device)\n",
    "        attention_mask = batch[\"attention_mask\"].to(device)\n",
    "        labels = batch[\"label\"].to(device)\n",
    "\n",
    "        outputs = model(input_ids=input_ids, attention_mask=attention_mask)\n",
    "        predictions = torch.argmax(outputs.logits, dim=1)\n",
    "\n",
    "        correct += (predictions == labels).sum().item()\n",
    "        total += labels.size(0)\n",
    "        all_predictions.extend(predictions.cpu().numpy())  #this line from chatgpt\n",
    "        all_labels.extend(labels.cpu().numpy())         #this line from chatgpt\n",
    "\n",
    "accuracy = correct / total\n",
    "print(f\"Validation Accuracy: {accuracy:.4f}\")\n",
    "\n",
    "# Compute F1 Score (macro and micro)\n",
    "f1_macro = f1_score(all_labels, all_predictions, average='macro') #this line from chatgpt\n",
    "\n",
    "pre=precision_score(all_labels, all_predictions, average='macro')\n",
    "recall=recall_score(all_labels, all_predictions, average='macro')\n",
    "\n",
    "print(f\"F1 Score (Macro): {f1_macro:.4f}\")\n",
    "print(f\"Precision (Macro): {pre:.4f}\")\n",
    "print(f\"Recall (Macro): {recall:.4f}\")"
   ]
  },
  {
   "cell_type": "markdown",
   "metadata": {},
   "source": [
    "The below code is to solve error on github"
   ]
  }
 ],
 "metadata": {
  "accelerator": "GPU",
  "colab": {
   "authorship_tag": "ABX9TyNdjUFQuY8NMGlVO5xu3GSb",
   "gpuType": "T4",
   "mount_file_id": "1LCSj_b6UXjZIhtmYuW9d18m4AwnHyMSl",
   "provenance": []
  },
  "kernelspec": {
   "display_name": "Python 3",
   "name": "python3"
  },
  "language_info": {
   "codemirror_mode": {
    "name": "ipython",
    "version": 3
   },
   "file_extension": ".py",
   "mimetype": "text/x-python",
   "name": "python",
   "nbconvert_exporter": "python",
   "pygments_lexer": "ipython3",
   "version": "3.10.0"
  }
 },
 "nbformat": 4,
 "nbformat_minor": 0
}
