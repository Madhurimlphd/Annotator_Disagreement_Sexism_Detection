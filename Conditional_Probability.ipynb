{
 "cells": [
  {
   "cell_type": "markdown",
   "metadata": {},
   "source": [
    "P(Female_Disagrement|Disagreement)=P(Female_Disagreement Intersection Disagreement)/P(Disagreement)"
   ]
  },
  {
   "cell_type": "markdown",
   "metadata": {},
   "source": [
    "P(Female_Disagreement|Disagreement)=(Tweet Size for female_disagreement)/(Tweet Size for disagreement)"
   ]
  },
  {
   "cell_type": "markdown",
   "metadata": {},
   "source": [
    "Conditional Probability for disagreement"
   ]
  },
  {
   "cell_type": "code",
   "execution_count": 4,
   "metadata": {},
   "outputs": [
    {
     "name": "stdout",
     "output_type": "stream",
     "text": [
      "P(Female_Disagreement|Disagreement) 0.6645161290322581\n"
     ]
    }
   ],
   "source": [
    "disagreement_size=2170\n",
    "female_disagreement_size=1442\n",
    "p_female_disagreement_given_disagreement=female_disagreement_size/disagreement_size\n",
    "print(\"P(Female_Disagreement|Disagreement)\",p_female_disagreement_given_disagreement)"
   ]
  },
  {
   "cell_type": "code",
   "execution_count": 5,
   "metadata": {},
   "outputs": [
    {
     "name": "stdout",
     "output_type": "stream",
     "text": [
      "P(male_Disagreement|Disagreement) 0.7248847926267281\n"
     ]
    }
   ],
   "source": [
    "disagreement_size=2170\n",
    "male_disagreement_size=1573\n",
    "p_male_disagreement_given_disagreement=male_disagreement_size/disagreement_size\n",
    "print(\"P(male_Disagreement|Disagreement)\",p_male_disagreement_given_disagreement)"
   ]
  },
  {
   "cell_type": "code",
   "execution_count": 6,
   "metadata": {},
   "outputs": [
    {
     "name": "stdout",
     "output_type": "stream",
     "text": [
      "P(age1_Disagreement|Disagreement) 0.4391705069124424\n"
     ]
    }
   ],
   "source": [
    "disagreement_size=2170\n",
    "age1_disagreement_size=953\n",
    "p_age1_disagreement_given_disagreement=age1_disagreement_size/disagreement_size\n",
    "print(\"P(age1_Disagreement|Disagreement)\",p_age1_disagreement_given_disagreement)"
   ]
  },
  {
   "cell_type": "code",
   "execution_count": 7,
   "metadata": {},
   "outputs": [
    {
     "name": "stdout",
     "output_type": "stream",
     "text": [
      "P(age2_Disagreement|Disagreement) 0.43640552995391707\n"
     ]
    }
   ],
   "source": [
    "disagreement_size=2170\n",
    "age2_disagreement_size=947\n",
    "p_age2_disagreement_given_disagreement=age2_disagreement_size/disagreement_size\n",
    "print(\"P(age2_Disagreement|Disagreement)\",p_age2_disagreement_given_disagreement)"
   ]
  },
  {
   "cell_type": "code",
   "execution_count": 8,
   "metadata": {},
   "outputs": [
    {
     "name": "stdout",
     "output_type": "stream",
     "text": [
      "P(age3_Disagreement|Disagreement) 0.44930875576036866\n"
     ]
    }
   ],
   "source": [
    "disagreement_size=2170\n",
    "age3_disagreement_size=975\n",
    "p_age3_disagreement_given_disagreement=age3_disagreement_size/disagreement_size\n",
    "print(\"P(age3_Disagreement|Disagreement)\",p_age3_disagreement_given_disagreement)"
   ]
  },
  {
   "cell_type": "markdown",
   "metadata": {},
   "source": [
    "Conditional Probability for agreement "
   ]
  },
  {
   "cell_type": "markdown",
   "metadata": {},
   "source": [
    "P(Female_agrement|agreement)=P(Female_agreement Intersection agreement)/P(agreement)"
   ]
  },
  {
   "cell_type": "code",
   "execution_count": null,
   "metadata": {},
   "outputs": [],
   "source": [
    "agreement_size=1090\n",
    "female_agreement_size=1818\n"
   ]
  }
 ],
 "metadata": {
  "kernelspec": {
   "display_name": "Python 3",
   "language": "python",
   "name": "python3"
  },
  "language_info": {
   "codemirror_mode": {
    "name": "ipython",
    "version": 3
   },
   "file_extension": ".py",
   "mimetype": "text/x-python",
   "name": "python",
   "nbconvert_exporter": "python",
   "pygments_lexer": "ipython3",
   "version": "3.9.6"
  }
 },
 "nbformat": 4,
 "nbformat_minor": 2
}
