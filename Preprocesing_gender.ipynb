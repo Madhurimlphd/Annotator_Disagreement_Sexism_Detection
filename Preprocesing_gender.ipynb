{
 "cells": [
  {
   "cell_type": "code",
   "execution_count": 2,
   "metadata": {},
   "outputs": [],
   "source": [
    "import pandas as pd\n",
    "file_path = \"EXIST_2023/EXIST2023_Task1_en.xlsx\"\n",
    "data = pd.read_excel(file_path)"
   ]
  },
  {
   "cell_type": "code",
   "execution_count": 3,
   "metadata": {},
   "outputs": [
    {
     "data": {
      "text/plain": [
       "3260"
      ]
     },
     "execution_count": 3,
     "metadata": {},
     "output_type": "execute_result"
    }
   ],
   "source": [
    "len(data)"
   ]
  },
  {
   "cell_type": "code",
   "execution_count": 4,
   "metadata": {},
   "outputs": [
    {
     "data": {
      "text/html": [
       "<div>\n",
       "<style scoped>\n",
       "    .dataframe tbody tr th:only-of-type {\n",
       "        vertical-align: middle;\n",
       "    }\n",
       "\n",
       "    .dataframe tbody tr th {\n",
       "        vertical-align: top;\n",
       "    }\n",
       "\n",
       "    .dataframe thead th {\n",
       "        text-align: right;\n",
       "    }\n",
       "</style>\n",
       "<table border=\"1\" class=\"dataframe\">\n",
       "  <thead>\n",
       "    <tr style=\"text-align: right;\">\n",
       "      <th></th>\n",
       "      <th>Unnamed: 0</th>\n",
       "      <th>id</th>\n",
       "      <th>lang</th>\n",
       "      <th>tweet</th>\n",
       "      <th>number_annotators</th>\n",
       "      <th>annotators</th>\n",
       "      <th>gender_annotators</th>\n",
       "      <th>age_annotators</th>\n",
       "      <th>labels_task1</th>\n",
       "      <th>Total_vote</th>\n",
       "      <th>Total_female</th>\n",
       "      <th>Total_male</th>\n",
       "      <th>majority_vote</th>\n",
       "      <th>female_vote</th>\n",
       "      <th>male_vote</th>\n",
       "    </tr>\n",
       "  </thead>\n",
       "  <tbody>\n",
       "    <tr>\n",
       "      <th>0</th>\n",
       "      <td>0</td>\n",
       "      <td>200001</td>\n",
       "      <td>en</td>\n",
       "      <td>FFS! How about laying the blame on the bastard...</td>\n",
       "      <td>6</td>\n",
       "      <td>['Annotator_391', 'Annotator_392', 'Annotator_...</td>\n",
       "      <td>['F', 'F', 'M', 'M', 'M', 'F']</td>\n",
       "      <td>['18-22', '23-45', '18-22', '23-45', '46+', '4...</td>\n",
       "      <td>['YES', 'YES', 'NO', 'NO', 'YES', 'NO']</td>\n",
       "      <td>3</td>\n",
       "      <td>2</td>\n",
       "      <td>1</td>\n",
       "      <td>1</td>\n",
       "      <td>1</td>\n",
       "      <td>0</td>\n",
       "    </tr>\n",
       "    <tr>\n",
       "      <th>1</th>\n",
       "      <td>1</td>\n",
       "      <td>200002</td>\n",
       "      <td>en</td>\n",
       "      <td>Writing a uni essay in my local pub with a cof...</td>\n",
       "      <td>6</td>\n",
       "      <td>['Annotator_391', 'Annotator_392', 'Annotator_...</td>\n",
       "      <td>['F', 'F', 'M', 'M', 'M', 'F']</td>\n",
       "      <td>['18-22', '23-45', '18-22', '23-45', '46+', '4...</td>\n",
       "      <td>['YES', 'YES', 'YES', 'NO', 'YES', 'YES']</td>\n",
       "      <td>5</td>\n",
       "      <td>3</td>\n",
       "      <td>2</td>\n",
       "      <td>1</td>\n",
       "      <td>1</td>\n",
       "      <td>1</td>\n",
       "    </tr>\n",
       "    <tr>\n",
       "      <th>2</th>\n",
       "      <td>2</td>\n",
       "      <td>200003</td>\n",
       "      <td>en</td>\n",
       "      <td>@UniversalORL it is 2021 not 1921. I dont appr...</td>\n",
       "      <td>6</td>\n",
       "      <td>['Annotator_397', 'Annotator_398', 'Annotator_...</td>\n",
       "      <td>['F', 'F', 'M', 'M', 'M', 'F']</td>\n",
       "      <td>['18-22', '23-45', '18-22', '23-45', '46+', '4...</td>\n",
       "      <td>['YES', 'YES', 'NO', 'YES', 'NO', 'YES']</td>\n",
       "      <td>4</td>\n",
       "      <td>3</td>\n",
       "      <td>1</td>\n",
       "      <td>1</td>\n",
       "      <td>1</td>\n",
       "      <td>0</td>\n",
       "    </tr>\n",
       "    <tr>\n",
       "      <th>3</th>\n",
       "      <td>3</td>\n",
       "      <td>200004</td>\n",
       "      <td>en</td>\n",
       "      <td>@GMB this is unacceptable. Use her title as yo...</td>\n",
       "      <td>6</td>\n",
       "      <td>['Annotator_403', 'Annotator_404', 'Annotator_...</td>\n",
       "      <td>['F', 'F', 'M', 'M', 'M', 'F']</td>\n",
       "      <td>['18-22', '23-45', '18-22', '23-45', '46+', '4...</td>\n",
       "      <td>['YES', 'YES', 'NO', 'YES', 'NO', 'NO']</td>\n",
       "      <td>3</td>\n",
       "      <td>2</td>\n",
       "      <td>1</td>\n",
       "      <td>1</td>\n",
       "      <td>1</td>\n",
       "      <td>0</td>\n",
       "    </tr>\n",
       "    <tr>\n",
       "      <th>4</th>\n",
       "      <td>4</td>\n",
       "      <td>200005</td>\n",
       "      <td>en</td>\n",
       "      <td>‘Making yourself a harder target’ basically bo...</td>\n",
       "      <td>6</td>\n",
       "      <td>['Annotator_409', 'Annotator_410', 'Annotator_...</td>\n",
       "      <td>['F', 'F', 'M', 'M', 'M', 'F']</td>\n",
       "      <td>['18-22', '23-45', '18-22', '23-45', '46+', '4...</td>\n",
       "      <td>['YES', 'YES', 'NO', 'NO', 'NO', 'YES']</td>\n",
       "      <td>3</td>\n",
       "      <td>3</td>\n",
       "      <td>0</td>\n",
       "      <td>1</td>\n",
       "      <td>1</td>\n",
       "      <td>0</td>\n",
       "    </tr>\n",
       "    <tr>\n",
       "      <th>5</th>\n",
       "      <td>5</td>\n",
       "      <td>200006</td>\n",
       "      <td>en</td>\n",
       "      <td>According to a customer I have plenty of time ...</td>\n",
       "      <td>6</td>\n",
       "      <td>['Annotator_409', 'Annotator_410', 'Annotator_...</td>\n",
       "      <td>['F', 'F', 'M', 'M', 'M', 'F']</td>\n",
       "      <td>['18-22', '23-45', '18-22', '23-45', '46+', '4...</td>\n",
       "      <td>['YES', 'YES', 'YES', 'YES', 'YES', 'YES']</td>\n",
       "      <td>6</td>\n",
       "      <td>3</td>\n",
       "      <td>3</td>\n",
       "      <td>1</td>\n",
       "      <td>1</td>\n",
       "      <td>1</td>\n",
       "    </tr>\n",
       "    <tr>\n",
       "      <th>6</th>\n",
       "      <td>6</td>\n",
       "      <td>200007</td>\n",
       "      <td>en</td>\n",
       "      <td>So only 'blokes' drink beer? Sorry, but if you...</td>\n",
       "      <td>6</td>\n",
       "      <td>['Annotator_415', 'Annotator_416', 'Annotator_...</td>\n",
       "      <td>['F', 'F', 'M', 'M', 'M', 'F']</td>\n",
       "      <td>['18-22', '23-45', '18-22', '23-45', '46+', '4...</td>\n",
       "      <td>['YES', 'YES', 'YES', 'YES', 'YES', 'YES']</td>\n",
       "      <td>6</td>\n",
       "      <td>3</td>\n",
       "      <td>3</td>\n",
       "      <td>1</td>\n",
       "      <td>1</td>\n",
       "      <td>1</td>\n",
       "    </tr>\n",
       "    <tr>\n",
       "      <th>7</th>\n",
       "      <td>7</td>\n",
       "      <td>200008</td>\n",
       "      <td>en</td>\n",
       "      <td>New to the shelves this week - looking forward...</td>\n",
       "      <td>6</td>\n",
       "      <td>['Annotator_420', 'Annotator_296', 'Annotator_...</td>\n",
       "      <td>['F', 'F', 'M', 'M', 'M', 'F']</td>\n",
       "      <td>['18-22', '23-45', '18-22', '23-45', '46+', '4...</td>\n",
       "      <td>['NO', 'NO', 'NO', 'YES', 'NO', 'NO']</td>\n",
       "      <td>1</td>\n",
       "      <td>0</td>\n",
       "      <td>1</td>\n",
       "      <td>0</td>\n",
       "      <td>0</td>\n",
       "      <td>0</td>\n",
       "    </tr>\n",
       "    <tr>\n",
       "      <th>8</th>\n",
       "      <td>8</td>\n",
       "      <td>200009</td>\n",
       "      <td>en</td>\n",
       "      <td>#EverydaySexism We can &amp;amp; need to do better...</td>\n",
       "      <td>6</td>\n",
       "      <td>['Annotator_425', 'Annotator_426', 'Annotator_...</td>\n",
       "      <td>['F', 'F', 'M', 'M', 'M', 'F']</td>\n",
       "      <td>['18-22', '23-45', '18-22', '23-45', '46+', '4...</td>\n",
       "      <td>['YES', 'YES', 'NO', 'NO', 'YES', 'NO']</td>\n",
       "      <td>3</td>\n",
       "      <td>2</td>\n",
       "      <td>1</td>\n",
       "      <td>1</td>\n",
       "      <td>1</td>\n",
       "      <td>0</td>\n",
       "    </tr>\n",
       "    <tr>\n",
       "      <th>9</th>\n",
       "      <td>9</td>\n",
       "      <td>200010</td>\n",
       "      <td>en</td>\n",
       "      <td>I guess that’s fairly normal for a Neanderthal...</td>\n",
       "      <td>6</td>\n",
       "      <td>['Annotator_431', 'Annotator_432', 'Annotator_...</td>\n",
       "      <td>['F', 'F', 'M', 'M', 'M', 'F']</td>\n",
       "      <td>['18-22', '23-45', '18-22', '23-45', '46+', '4...</td>\n",
       "      <td>['NO', 'NO', 'NO', 'NO', 'YES', 'NO']</td>\n",
       "      <td>1</td>\n",
       "      <td>0</td>\n",
       "      <td>1</td>\n",
       "      <td>0</td>\n",
       "      <td>0</td>\n",
       "      <td>0</td>\n",
       "    </tr>\n",
       "  </tbody>\n",
       "</table>\n",
       "</div>"
      ],
      "text/plain": [
       "   Unnamed: 0      id lang                                              tweet  \\\n",
       "0           0  200001   en  FFS! How about laying the blame on the bastard...   \n",
       "1           1  200002   en  Writing a uni essay in my local pub with a cof...   \n",
       "2           2  200003   en  @UniversalORL it is 2021 not 1921. I dont appr...   \n",
       "3           3  200004   en  @GMB this is unacceptable. Use her title as yo...   \n",
       "4           4  200005   en  ‘Making yourself a harder target’ basically bo...   \n",
       "5           5  200006   en  According to a customer I have plenty of time ...   \n",
       "6           6  200007   en  So only 'blokes' drink beer? Sorry, but if you...   \n",
       "7           7  200008   en  New to the shelves this week - looking forward...   \n",
       "8           8  200009   en  #EverydaySexism We can &amp; need to do better...   \n",
       "9           9  200010   en  I guess that’s fairly normal for a Neanderthal...   \n",
       "\n",
       "   number_annotators                                         annotators  \\\n",
       "0                  6  ['Annotator_391', 'Annotator_392', 'Annotator_...   \n",
       "1                  6  ['Annotator_391', 'Annotator_392', 'Annotator_...   \n",
       "2                  6  ['Annotator_397', 'Annotator_398', 'Annotator_...   \n",
       "3                  6  ['Annotator_403', 'Annotator_404', 'Annotator_...   \n",
       "4                  6  ['Annotator_409', 'Annotator_410', 'Annotator_...   \n",
       "5                  6  ['Annotator_409', 'Annotator_410', 'Annotator_...   \n",
       "6                  6  ['Annotator_415', 'Annotator_416', 'Annotator_...   \n",
       "7                  6  ['Annotator_420', 'Annotator_296', 'Annotator_...   \n",
       "8                  6  ['Annotator_425', 'Annotator_426', 'Annotator_...   \n",
       "9                  6  ['Annotator_431', 'Annotator_432', 'Annotator_...   \n",
       "\n",
       "                gender_annotators  \\\n",
       "0  ['F', 'F', 'M', 'M', 'M', 'F']   \n",
       "1  ['F', 'F', 'M', 'M', 'M', 'F']   \n",
       "2  ['F', 'F', 'M', 'M', 'M', 'F']   \n",
       "3  ['F', 'F', 'M', 'M', 'M', 'F']   \n",
       "4  ['F', 'F', 'M', 'M', 'M', 'F']   \n",
       "5  ['F', 'F', 'M', 'M', 'M', 'F']   \n",
       "6  ['F', 'F', 'M', 'M', 'M', 'F']   \n",
       "7  ['F', 'F', 'M', 'M', 'M', 'F']   \n",
       "8  ['F', 'F', 'M', 'M', 'M', 'F']   \n",
       "9  ['F', 'F', 'M', 'M', 'M', 'F']   \n",
       "\n",
       "                                      age_annotators  \\\n",
       "0  ['18-22', '23-45', '18-22', '23-45', '46+', '4...   \n",
       "1  ['18-22', '23-45', '18-22', '23-45', '46+', '4...   \n",
       "2  ['18-22', '23-45', '18-22', '23-45', '46+', '4...   \n",
       "3  ['18-22', '23-45', '18-22', '23-45', '46+', '4...   \n",
       "4  ['18-22', '23-45', '18-22', '23-45', '46+', '4...   \n",
       "5  ['18-22', '23-45', '18-22', '23-45', '46+', '4...   \n",
       "6  ['18-22', '23-45', '18-22', '23-45', '46+', '4...   \n",
       "7  ['18-22', '23-45', '18-22', '23-45', '46+', '4...   \n",
       "8  ['18-22', '23-45', '18-22', '23-45', '46+', '4...   \n",
       "9  ['18-22', '23-45', '18-22', '23-45', '46+', '4...   \n",
       "\n",
       "                                 labels_task1  Total_vote  Total_female  \\\n",
       "0     ['YES', 'YES', 'NO', 'NO', 'YES', 'NO']           3             2   \n",
       "1   ['YES', 'YES', 'YES', 'NO', 'YES', 'YES']           5             3   \n",
       "2    ['YES', 'YES', 'NO', 'YES', 'NO', 'YES']           4             3   \n",
       "3     ['YES', 'YES', 'NO', 'YES', 'NO', 'NO']           3             2   \n",
       "4     ['YES', 'YES', 'NO', 'NO', 'NO', 'YES']           3             3   \n",
       "5  ['YES', 'YES', 'YES', 'YES', 'YES', 'YES']           6             3   \n",
       "6  ['YES', 'YES', 'YES', 'YES', 'YES', 'YES']           6             3   \n",
       "7       ['NO', 'NO', 'NO', 'YES', 'NO', 'NO']           1             0   \n",
       "8     ['YES', 'YES', 'NO', 'NO', 'YES', 'NO']           3             2   \n",
       "9       ['NO', 'NO', 'NO', 'NO', 'YES', 'NO']           1             0   \n",
       "\n",
       "   Total_male  majority_vote  female_vote  male_vote  \n",
       "0           1              1            1          0  \n",
       "1           2              1            1          1  \n",
       "2           1              1            1          0  \n",
       "3           1              1            1          0  \n",
       "4           0              1            1          0  \n",
       "5           3              1            1          1  \n",
       "6           3              1            1          1  \n",
       "7           1              0            0          0  \n",
       "8           1              1            1          0  \n",
       "9           1              0            0          0  "
      ]
     },
     "execution_count": 4,
     "metadata": {},
     "output_type": "execute_result"
    }
   ],
   "source": [
    "data.head(10)"
   ]
  },
  {
   "cell_type": "markdown",
   "metadata": {},
   "source": [
    "Find records that has disagreement among annotators "
   ]
  },
  {
   "cell_type": "code",
   "execution_count": 5,
   "metadata": {},
   "outputs": [],
   "source": [
    "def has_disagreement(label_list):\n",
    "    label_list = eval(label_list)\n",
    "    return 'YES' in label_list and 'NO' in label_list\n",
    "\n",
    "disagreement_records = data[data['labels_task1'].apply(has_disagreement)]\n",
    "disagreement_records=disagreement_records[['id','tweet','number_annotators','annotators','gender_annotators','age_annotators','labels_task1',\"Total_vote\",\"Total_female\",\"Total_male\",\"majority_vote\"]]\n",
    "disagreement_records.to_excel('EXIST_2023/Complete_disagreement_records.xlsx', index=False)\n"
   ]
  },
  {
   "cell_type": "code",
   "execution_count": 6,
   "metadata": {},
   "outputs": [
    {
     "data": {
      "text/plain": [
       "2170"
      ]
     },
     "execution_count": 6,
     "metadata": {},
     "output_type": "execute_result"
    }
   ],
   "source": [
    "len(disagreement_records)"
   ]
  },
  {
   "cell_type": "markdown",
   "metadata": {},
   "source": [
    "Find records that has agreement among annotators"
   ]
  },
  {
   "cell_type": "code",
   "execution_count": 7,
   "metadata": {},
   "outputs": [],
   "source": [
    "def is_complete_agreement(label_list):\n",
    "    # Convert string representation of list to actual list\n",
    "    label_list = eval(label_list)\n",
    "    return all(label == 'YES' for label in label_list) or all(label == 'NO' for label in label_list)\n",
    "\n",
    "# Apply the function to filter rows\n",
    "complete_agreement_records = data[data['labels_task1'].apply(is_complete_agreement)]\n",
    "\n",
    "complete_agreement_records=complete_agreement_records[['id','tweet','number_annotators','annotators','gender_annotators','age_annotators','labels_task1',\"Total_vote\",\"Total_female\",\"Total_male\",\"majority_vote\"]]\n",
    "complete_agreement_records.to_excel('EXIST_2023/Complete_agreement_records.xlsx', index=False)\n"
   ]
  },
  {
   "cell_type": "code",
   "execution_count": 8,
   "metadata": {},
   "outputs": [
    {
     "data": {
      "text/plain": [
       "1090"
      ]
     },
     "execution_count": 8,
     "metadata": {},
     "output_type": "execute_result"
    }
   ],
   "source": [
    "len(complete_agreement_records)"
   ]
  },
  {
   "cell_type": "markdown",
   "metadata": {},
   "source": [
    "Female disagreement records"
   ]
  },
  {
   "cell_type": "code",
   "execution_count": 10,
   "metadata": {},
   "outputs": [],
   "source": [
    "data_d=pd.read_excel(\"EXIST_2023/Complete_disagreement_records.xlsx\")"
   ]
  },
  {
   "cell_type": "code",
   "execution_count": 11,
   "metadata": {},
   "outputs": [],
   "source": [
    "filtered_df_f = data_d[(data_d[\"Total_female\"] != 3) & (data_d[\"Total_female\"] != 0)]"
   ]
  },
  {
   "cell_type": "code",
   "execution_count": 12,
   "metadata": {},
   "outputs": [],
   "source": [
    "filtered_df_f.to_excel(\"EXIST_2023/female_disagreement_records.xlsx\")"
   ]
  },
  {
   "cell_type": "code",
   "execution_count": 13,
   "metadata": {},
   "outputs": [
    {
     "data": {
      "text/plain": [
       "1442"
      ]
     },
     "execution_count": 13,
     "metadata": {},
     "output_type": "execute_result"
    }
   ],
   "source": [
    "len(filtered_df_f)"
   ]
  },
  {
   "cell_type": "markdown",
   "metadata": {},
   "source": [
    "Male disagreement records"
   ]
  },
  {
   "cell_type": "code",
   "execution_count": 14,
   "metadata": {},
   "outputs": [],
   "source": [
    "filtered_df_m = data_d[(data_d[\"Total_male\"] != 3) & (data_d[\"Total_male\"] != 0)]"
   ]
  },
  {
   "cell_type": "code",
   "execution_count": 15,
   "metadata": {},
   "outputs": [],
   "source": [
    "filtered_df_m.to_excel(\"EXIST_2023/male_disagreement_records.xlsx\")"
   ]
  },
  {
   "cell_type": "code",
   "execution_count": 16,
   "metadata": {},
   "outputs": [
    {
     "data": {
      "text/plain": [
       "1573"
      ]
     },
     "execution_count": 16,
     "metadata": {},
     "output_type": "execute_result"
    }
   ],
   "source": [
    "len(filtered_df_m)"
   ]
  }
 ],
 "metadata": {
  "kernelspec": {
   "display_name": "Python 3",
   "language": "python",
   "name": "python3"
  },
  "language_info": {
   "codemirror_mode": {
    "name": "ipython",
    "version": 3
   },
   "file_extension": ".py",
   "mimetype": "text/x-python",
   "name": "python",
   "nbconvert_exporter": "python",
   "pygments_lexer": "ipython3",
   "version": "3.9.6"
  }
 },
 "nbformat": 4,
 "nbformat_minor": 2
}
