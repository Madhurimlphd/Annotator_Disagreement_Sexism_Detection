{
 "cells": [
  {
   "cell_type": "code",
   "execution_count": null,
   "metadata": {},
   "outputs": [],
   "source": [
    "def count_by_gender(row):\n",
    "    gender=eval(row[\"gender_annotators\"])\n",
    "    labels=eval(row[\"labels_task1\"])\n",
    "    vote=sum(1 for l in labels if l=='YES')\n",
    "    F_vote=sum(1 for g,l in zip(gender,labels) if g.upper()==\"F\" and l==\"YES\" )\n",
    "    M_vote=sum(1 for g,l in zip(gender,labels) if g.upper()==\"M\" and l==\"YES\" )\n",
    "    return vote,F_vote,M_vote\n",
    "    #return pd.Series([vote,F_vote,M_vote])\n",
    "    "
   ]
  },
  {
   "cell_type": "code",
   "execution_count": null,
   "metadata": {},
   "outputs": [],
   "source": [
    "def count_by_age(row):\n",
    "    age=eval(row[\"age_annotators\"])\n",
    "    labels=eval(row[\"labels_task1\"])\n",
    "    vote=sum(1 for l in labels if l=='YES')\n",
    "    age1_vote=sum(1 for a,l in zip(age,labels) if a==\"18-22\" and l==\"YES\" )\n",
    "    age2_vote=sum(1 for a,l in zip(age,labels) if a==\"23-45\" and l==\"YES\" )\n",
    "    age3_vote=sum(1 for a,l in zip(age,labels) if a==\"46+\" and l==\"YES\" )\n",
    "    #F_vote=sum(1 for g,l in zip(gender,labels) if g.upper()==\"F\" and l==\"YES\" )\n",
    "    #M_vote=sum(1 for g,l in zip(gender,labels) if g.upper()==\"M\" and l==\"YES\" )\n",
    "    return vote,age1_vote,age2_vote,age3_vote"
   ]
  },
  {
   "cell_type": "code",
   "execution_count": null,
   "metadata": {},
   "outputs": [],
   "source": [
    "import pandas as pd"
   ]
  },
  {
   "cell_type": "code",
   "execution_count": null,
   "metadata": {},
   "outputs": [],
   "source": [
    "df=pd.read_excel(\"EXIST_2023/EXIST2023_Task1_en.xlsx\")"
   ]
  },
  {
   "cell_type": "markdown",
   "metadata": {},
   "source": [
    "gender majority vote"
   ]
  },
  {
   "cell_type": "code",
   "execution_count": null,
   "metadata": {},
   "outputs": [],
   "source": [
    "for i in range(len(df)):\n",
    "    majority_vote,female_vote,male_vote=count_by_gender(df.iloc[i])\n",
    "    df.loc[i, \"Total_vote\"] = majority_vote\n",
    "    df.loc[i, \"Total_female\"] = female_vote\n",
    "    df.loc[i, \"Total_male\"] = male_vote"
   ]
  },
  {
   "cell_type": "code",
   "execution_count": null,
   "metadata": {},
   "outputs": [],
   "source": [
    "for i in range(len(df)):\n",
    "    df.loc[i, \"majority_vote\"] = 1 if df.loc[i, \"Total_vote\"] >= 3 else 0\n",
    "    df.loc[i, \"female_vote\"] = 1 if df.loc[i, \"Total_female\"] >= 2 else 0\n",
    "    df.loc[i, \"male_vote\"] = 1 if df.loc[i, \"Total_male\"] >= 2 else 0"
   ]
  },
  {
   "cell_type": "code",
   "execution_count": null,
   "metadata": {},
   "outputs": [],
   "source": [
    "df.to_excel(\"EXIST_2023/EXIST2023_Task1_en.xlsx\")"
   ]
  },
  {
   "cell_type": "markdown",
   "metadata": {},
   "source": [
    "Age majority vote"
   ]
  },
  {
   "cell_type": "code",
   "execution_count": null,
   "metadata": {},
   "outputs": [],
   "source": [
    "df=pd.read_excel(\"EXIST_2023/EXIST2023_Task1_en.xlsx\")"
   ]
  },
  {
   "cell_type": "code",
   "execution_count": null,
   "metadata": {},
   "outputs": [],
   "source": [
    "for i in range(len(df)):\n",
    "    majority_vote,age1_vote,age2_vote,age3_vote=count_by_age(df.iloc[i])\n",
    "    df.loc[i, \"Total_vote\"] = majority_vote\n",
    "    df.loc[i, \"Total_age1\"] = age1_vote\n",
    "    df.loc[i, \"Total_age2\"] = age2_vote\n",
    "    df.loc[i,\"Total_age3\"]=age3_vote"
   ]
  },
  {
   "cell_type": "code",
   "execution_count": null,
   "metadata": {},
   "outputs": [],
   "source": [
    "for i in range(len(df)):\n",
    "    df.loc[i, \"majority_vote\"] = 1 if df.loc[i, \"Total_vote\"] >= 3 else 0\n",
    "    df.loc[i, \"age1_vote\"] = 1 if df.loc[i, \"Total_age1\"] >= 2 else 0\n",
    "    df.loc[i, \"age2_vote\"] = 1 if df.loc[i, \"Total_age2\"] >= 2 else 0\n",
    "    df.loc[i, \"age3_vote\"] = 1 if df.loc[i, \"Total_age3\"] >= 2 else 0"
   ]
  },
  {
   "cell_type": "code",
   "execution_count": null,
   "metadata": {},
   "outputs": [],
   "source": [
    "df.to_excel(\"EXIST_2023/EXIST2023_Task1_age.xlsx\")"
   ]
  },
  {
   "cell_type": "code",
   "execution_count": null,
   "metadata": {},
   "outputs": [],
   "source": []
  }
 ],
 "metadata": {
  "language_info": {
   "name": "python"
  }
 },
 "nbformat": 4,
 "nbformat_minor": 2
}
