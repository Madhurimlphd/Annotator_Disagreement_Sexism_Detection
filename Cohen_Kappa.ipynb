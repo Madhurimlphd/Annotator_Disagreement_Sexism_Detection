{
 "cells": [
  {
   "cell_type": "code",
   "execution_count": 1,
   "metadata": {},
   "outputs": [],
   "source": [
    "import pandas as pd"
   ]
  },
  {
   "cell_type": "code",
   "execution_count": 8,
   "metadata": {},
   "outputs": [],
   "source": [
    "import pandas as pd\n",
    "#file_path = \"EXIST_2023/disagreement_records_task1.xlsx\"\n",
    "file_path_d=\"EXIST_2023/Complete_disagreement_records.xlsx\"\n",
    "file_path_f=\"EXIST_2023/female_disagreement_records.xlsx\"\n",
    "file_path_m=\"EXIST_2023/male_disagreement_records.xlsx\"\n",
    "file_path_a=\"EXIST_2023/Complete_agreement_records.xlsx\"\n",
    "\n",
    "#file_path = \"EXIST_2023/EXIST2023_Task1_en.xlsx\"\n",
    "data_d = pd.read_excel(file_path_d)\n",
    "data_f = pd.read_excel(file_path_f)\n",
    "data_m = pd.read_excel(file_path_m)\n",
    "data_a = pd.read_excel(file_path_a)"
   ]
  },
  {
   "cell_type": "code",
   "execution_count": 2,
   "metadata": {},
   "outputs": [],
   "source": [
    "file_path=\"EXIST_2023/EXIST2023_Task1_en.xlsx\"\n",
    "data=pd.read_excel(file_path)"
   ]
  },
  {
   "cell_type": "code",
   "execution_count": 3,
   "metadata": {},
   "outputs": [],
   "source": [
    "from sklearn.metrics import cohen_kappa_score"
   ]
  },
  {
   "cell_type": "code",
   "execution_count": 10,
   "metadata": {},
   "outputs": [
    {
     "name": "stdout",
     "output_type": "stream",
     "text": [
      "Kappa score between male and female annotators\n",
      "0.5479946097103108\n"
     ]
    }
   ],
   "source": [
    "kappa_score_fm=cohen_kappa_score(data[\"female_vote\"],data[\"male_vote\"])\n",
    "print(\"Kappa score between male and female annotators\")\n",
    "print(kappa_score_fm)"
   ]
  },
  {
   "cell_type": "code",
   "execution_count": 11,
   "metadata": {},
   "outputs": [
    {
     "name": "stdout",
     "output_type": "stream",
     "text": [
      "Kappa score between majority and female annotators\n",
      "0.7896598059405489\n"
     ]
    }
   ],
   "source": [
    "kappa_score_af=cohen_kappa_score(data[\"majority_vote\"],data[\"female_vote\"])\n",
    "print(\"Kappa score between majority and female annotators\")\n",
    "print(kappa_score_af)"
   ]
  },
  {
   "cell_type": "code",
   "execution_count": 13,
   "metadata": {},
   "outputs": [
    {
     "name": "stdout",
     "output_type": "stream",
     "text": [
      "Kappa score between majority and male annotators\n",
      "0.7684002901138819\n"
     ]
    }
   ],
   "source": [
    "kappa_score_am=cohen_kappa_score(data[\"majority_vote\"],data[\"male_vote\"])\n",
    "print(\"Kappa score between majority and male annotators\")\n",
    "print(kappa_score_am)"
   ]
  },
  {
   "cell_type": "markdown",
   "metadata": {},
   "source": [
    "Cohen kappa between age annotators"
   ]
  },
  {
   "cell_type": "code",
   "execution_count": 14,
   "metadata": {},
   "outputs": [],
   "source": [
    "file_path=\"EXIST_2023/EXIST2023_Task1_age.xlsx\"\n",
    "data_age=pd.read_excel(file_path)"
   ]
  },
  {
   "cell_type": "code",
   "execution_count": 16,
   "metadata": {},
   "outputs": [
    {
     "name": "stdout",
     "output_type": "stream",
     "text": [
      "Kappa score between age1 and age2 annotators\n",
      "0.4003211835125796\n"
     ]
    }
   ],
   "source": [
    "kappa_score_a1a2=cohen_kappa_score(data_age[\"age1_vote\"],data_age[\"age2_vote\"])\n",
    "print(\"Kappa score between age1 and age2 annotators\")\n",
    "print(kappa_score_a1a2)"
   ]
  },
  {
   "cell_type": "code",
   "execution_count": 17,
   "metadata": {},
   "outputs": [
    {
     "name": "stdout",
     "output_type": "stream",
     "text": [
      "Kappa score between age1 and age3 annotators\n",
      "0.3611945814005504\n"
     ]
    }
   ],
   "source": [
    "kappa_score_a1a3=cohen_kappa_score(data_age[\"age1_vote\"],data_age[\"age3_vote\"])\n",
    "print(\"Kappa score between age1 and age3 annotators\")\n",
    "print(kappa_score_a1a3)"
   ]
  },
  {
   "cell_type": "code",
   "execution_count": 18,
   "metadata": {},
   "outputs": [
    {
     "name": "stdout",
     "output_type": "stream",
     "text": [
      "Kappa score between age2 and age3 annotators\n",
      "0.4181524696767053\n"
     ]
    }
   ],
   "source": [
    "kappa_score_a2a3=cohen_kappa_score(data_age[\"age2_vote\"],data_age[\"age3_vote\"])\n",
    "print(\"Kappa score between age2 and age3 annotators\")\n",
    "print(kappa_score_a2a3)"
   ]
  },
  {
   "cell_type": "code",
   "execution_count": 19,
   "metadata": {},
   "outputs": [
    {
     "name": "stdout",
     "output_type": "stream",
     "text": [
      "Kappa score between majority and age1 annotators\n",
      "0.49417907425865937\n"
     ]
    }
   ],
   "source": [
    "kappa_score_ma1=cohen_kappa_score(data_age[\"majority_vote\"],data_age[\"age1_vote\"])\n",
    "print(\"Kappa score between majority and age1 annotators\")\n",
    "print(kappa_score_ma1)"
   ]
  },
  {
   "cell_type": "code",
   "execution_count": 20,
   "metadata": {},
   "outputs": [
    {
     "name": "stdout",
     "output_type": "stream",
     "text": [
      "Kappa score between majority and age2 annotators\n",
      "0.5831669761683689\n"
     ]
    }
   ],
   "source": [
    "kappa_score_ma2=cohen_kappa_score(data_age[\"majority_vote\"],data_age[\"age2_vote\"])\n",
    "print(\"Kappa score between majority and age2 annotators\")\n",
    "print(kappa_score_ma2)"
   ]
  },
  {
   "cell_type": "code",
   "execution_count": 21,
   "metadata": {},
   "outputs": [
    {
     "name": "stdout",
     "output_type": "stream",
     "text": [
      "Kappa score between majority and age3 annotators\n",
      "0.5605000529979427\n"
     ]
    }
   ],
   "source": [
    "kappa_score_ma3=cohen_kappa_score(data_age[\"majority_vote\"],data_age[\"age3_vote\"])\n",
    "print(\"Kappa score between majority and age3 annotators\")\n",
    "print(kappa_score_ma3)"
   ]
  },
  {
   "cell_type": "markdown",
   "metadata": {},
   "source": [
    "Kappa between different data subsets"
   ]
  }
 ],
 "metadata": {
  "kernelspec": {
   "display_name": "Python 3",
   "language": "python",
   "name": "python3"
  },
  "language_info": {
   "codemirror_mode": {
    "name": "ipython",
    "version": 3
   },
   "file_extension": ".py",
   "mimetype": "text/x-python",
   "name": "python",
   "nbconvert_exporter": "python",
   "pygments_lexer": "ipython3",
   "version": "3.9.6"
  }
 },
 "nbformat": 4,
 "nbformat_minor": 2
}
