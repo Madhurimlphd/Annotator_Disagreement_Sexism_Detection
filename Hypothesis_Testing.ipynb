{
 "cells": [
  {
   "cell_type": "markdown",
   "metadata": {},
   "source": [
    "Annova test for gender"
   ]
  },
  {
   "cell_type": "code",
   "execution_count": 1,
   "metadata": {},
   "outputs": [],
   "source": [
    "import pandas as pd\n",
    "#file_path = \"EXIST_2023/disagreement_records_task1.xlsx\"\n",
    "file_path=\"EXIST_2023/EXIST2023_Task1_en.xlsx\"\n",
    "df = pd.read_excel(file_path)"
   ]
  },
  {
   "cell_type": "code",
   "execution_count": 2,
   "metadata": {},
   "outputs": [],
   "source": [
    "#df.head(20)"
   ]
  },
  {
   "cell_type": "code",
   "execution_count": 3,
   "metadata": {},
   "outputs": [
    {
     "name": "stdout",
     "output_type": "stream",
     "text": [
      "ANOVA Test Results:\n",
      "F-statistic: 759.6574\n",
      "P-value: 0.0000\n"
     ]
    }
   ],
   "source": [
    "from scipy.stats import f_oneway\n",
    "\n",
    "majority_f1 = df['Total_vote']\n",
    "female_f1 = df['Total_female']\n",
    "male_f1 = df['Total_male']\n",
    "\n",
    "# Perform one-way ANOVA\n",
    "f_stat,p_value= f_oneway(majority_f1, female_f1, male_f1)\n",
    "\n",
    "# Output test results\n",
    "print(\"ANOVA Test Results:\")\n",
    "print(f\"F-statistic: {f_stat:.4f}\")\n",
    "print(f\"P-value: {p_value:.4f}\")"
   ]
  },
  {
   "cell_type": "code",
   "execution_count": 4,
   "metadata": {},
   "outputs": [
    {
     "name": "stdout",
     "output_type": "stream",
     "text": [
      "ANOVA Test Results:\n",
      "F-statistic: 16.1917\n",
      "P-value: 0.0000\n"
     ]
    }
   ],
   "source": [
    "# Extract F1 score data for each group\n",
    "from scipy.stats import f_oneway\n",
    "\n",
    "majority_f1 = df['majority_vote']\n",
    "female_f1 = df['female_vote']\n",
    "male_f1 = df['male_vote']\n",
    "\n",
    "# Perform one-way ANOVA\n",
    "f_stat,p_value= f_oneway(majority_f1, female_f1, male_f1)\n",
    "\n",
    "# Output test results\n",
    "print(\"ANOVA Test Results:\")\n",
    "print(f\"F-statistic: {f_stat:.4f}\")\n",
    "print(f\"P-value: {p_value:.4f}\")"
   ]
  },
  {
   "cell_type": "markdown",
   "metadata": {},
   "source": [
    "Anova test for age"
   ]
  },
  {
   "cell_type": "code",
   "execution_count": 5,
   "metadata": {},
   "outputs": [],
   "source": [
    "import pandas as pd\n",
    "#file_path = \"EXIST_2023/disagreement_records_task1.xlsx\"\n",
    "file_path=\"EXIST_2023/EXIST2023_Task1_age.xlsx\"\n",
    "df = pd.read_excel(file_path)"
   ]
  },
  {
   "cell_type": "code",
   "execution_count": 6,
   "metadata": {},
   "outputs": [
    {
     "name": "stdout",
     "output_type": "stream",
     "text": [
      "ANOVA Test Results:\n",
      "F-statistic: 162.9870\n",
      "P-value: 0.0000\n"
     ]
    }
   ],
   "source": [
    "from scipy.stats import f_oneway\n",
    "\n",
    "majority_f1 = df['majority_vote']\n",
    "age1_f1 = df['age1_vote']\n",
    "age2_f1 = df['age2_vote']\n",
    "age3_f1 = df['age3_vote']\n",
    "\n",
    "# Perform one-way ANOVA\n",
    "f_stat,p_value= f_oneway(majority_f1, age1_f1,age2_f1,age3_f1)\n",
    "\n",
    "# Output test results\n",
    "print(\"ANOVA Test Results:\")\n",
    "print(f\"F-statistic: {f_stat:.4f}\")\n",
    "print(f\"P-value: {p_value:.4f}\")"
   ]
  },
  {
   "cell_type": "markdown",
   "metadata": {},
   "source": [
    "ANNOVA has assumptions about what it can and it cannot do "
   ]
  },
  {
   "cell_type": "markdown",
   "metadata": {},
   "source": [
    "https://docs.scipy.org/doc/scipy/reference/generated/scipy.stats.f_oneway.html"
   ]
  },
  {
   "cell_type": "code",
   "execution_count": 8,
   "metadata": {},
   "outputs": [
    {
     "name": "stdout",
     "output_type": "stream",
     "text": [
      "accept alternate hypothesis: This means there is a statistically significant difference in labeling behavior for the sexism dataset based on the demographics of the annotators (majority vote, female vote, and male vote)\n"
     ]
    }
   ],
   "source": [
    "if p_value<0.05:\n",
    "    print(\"accept alternate hypothesis: This means there is a statistically significant difference in labeling behavior for the sexism dataset based on the demographics of the annotators (majority vote, female vote, and male vote)\")\n",
    "else:\n",
    "    print(\"Do not reject null hypothesis\")"
   ]
  }
 ],
 "metadata": {
  "kernelspec": {
   "display_name": "Python 3",
   "language": "python",
   "name": "python3"
  },
  "language_info": {
   "codemirror_mode": {
    "name": "ipython",
    "version": 3
   },
   "file_extension": ".py",
   "mimetype": "text/x-python",
   "name": "python",
   "nbconvert_exporter": "python",
   "pygments_lexer": "ipython3",
   "version": "3.9.6"
  }
 },
 "nbformat": 4,
 "nbformat_minor": 2
}
