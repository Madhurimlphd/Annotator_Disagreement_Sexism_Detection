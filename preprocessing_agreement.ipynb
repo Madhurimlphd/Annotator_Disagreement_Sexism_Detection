{
 "cells": [
  {
   "cell_type": "code",
   "execution_count": 1,
   "metadata": {},
   "outputs": [],
   "source": [
    "import pandas as pd\n",
    "file_path = \"EXIST_2023/EXIST2023_Task1_en.xlsx\"\n",
    "data = pd.read_excel(file_path)"
   ]
  },
  {
   "cell_type": "code",
   "execution_count": 2,
   "metadata": {},
   "outputs": [
    {
     "data": {
      "text/plain": [
       "3260"
      ]
     },
     "execution_count": 2,
     "metadata": {},
     "output_type": "execute_result"
    }
   ],
   "source": [
    "len(data)"
   ]
  },
  {
   "cell_type": "code",
   "execution_count": 3,
   "metadata": {},
   "outputs": [
    {
     "data": {
      "text/html": [
       "<div>\n",
       "<style scoped>\n",
       "    .dataframe tbody tr th:only-of-type {\n",
       "        vertical-align: middle;\n",
       "    }\n",
       "\n",
       "    .dataframe tbody tr th {\n",
       "        vertical-align: top;\n",
       "    }\n",
       "\n",
       "    .dataframe thead th {\n",
       "        text-align: right;\n",
       "    }\n",
       "</style>\n",
       "<table border=\"1\" class=\"dataframe\">\n",
       "  <thead>\n",
       "    <tr style=\"text-align: right;\">\n",
       "      <th></th>\n",
       "      <th>Unnamed: 0</th>\n",
       "      <th>id</th>\n",
       "      <th>lang</th>\n",
       "      <th>tweet</th>\n",
       "      <th>number_annotators</th>\n",
       "      <th>annotators</th>\n",
       "      <th>gender_annotators</th>\n",
       "      <th>age_annotators</th>\n",
       "      <th>labels_task1</th>\n",
       "      <th>Total_vote</th>\n",
       "      <th>Total_female</th>\n",
       "      <th>Total_male</th>\n",
       "      <th>majority_vote</th>\n",
       "      <th>female_vote</th>\n",
       "      <th>male_vote</th>\n",
       "    </tr>\n",
       "  </thead>\n",
       "  <tbody>\n",
       "    <tr>\n",
       "      <th>0</th>\n",
       "      <td>0</td>\n",
       "      <td>200001</td>\n",
       "      <td>en</td>\n",
       "      <td>FFS! How about laying the blame on the bastard...</td>\n",
       "      <td>6</td>\n",
       "      <td>['Annotator_391', 'Annotator_392', 'Annotator_...</td>\n",
       "      <td>['F', 'F', 'M', 'M', 'M', 'F']</td>\n",
       "      <td>['18-22', '23-45', '18-22', '23-45', '46+', '4...</td>\n",
       "      <td>['YES', 'YES', 'NO', 'NO', 'YES', 'NO']</td>\n",
       "      <td>3</td>\n",
       "      <td>2</td>\n",
       "      <td>1</td>\n",
       "      <td>1</td>\n",
       "      <td>1</td>\n",
       "      <td>0</td>\n",
       "    </tr>\n",
       "    <tr>\n",
       "      <th>1</th>\n",
       "      <td>1</td>\n",
       "      <td>200002</td>\n",
       "      <td>en</td>\n",
       "      <td>Writing a uni essay in my local pub with a cof...</td>\n",
       "      <td>6</td>\n",
       "      <td>['Annotator_391', 'Annotator_392', 'Annotator_...</td>\n",
       "      <td>['F', 'F', 'M', 'M', 'M', 'F']</td>\n",
       "      <td>['18-22', '23-45', '18-22', '23-45', '46+', '4...</td>\n",
       "      <td>['YES', 'YES', 'YES', 'NO', 'YES', 'YES']</td>\n",
       "      <td>5</td>\n",
       "      <td>3</td>\n",
       "      <td>2</td>\n",
       "      <td>1</td>\n",
       "      <td>1</td>\n",
       "      <td>1</td>\n",
       "    </tr>\n",
       "    <tr>\n",
       "      <th>2</th>\n",
       "      <td>2</td>\n",
       "      <td>200003</td>\n",
       "      <td>en</td>\n",
       "      <td>@UniversalORL it is 2021 not 1921. I dont appr...</td>\n",
       "      <td>6</td>\n",
       "      <td>['Annotator_397', 'Annotator_398', 'Annotator_...</td>\n",
       "      <td>['F', 'F', 'M', 'M', 'M', 'F']</td>\n",
       "      <td>['18-22', '23-45', '18-22', '23-45', '46+', '4...</td>\n",
       "      <td>['YES', 'YES', 'NO', 'YES', 'NO', 'YES']</td>\n",
       "      <td>4</td>\n",
       "      <td>3</td>\n",
       "      <td>1</td>\n",
       "      <td>1</td>\n",
       "      <td>1</td>\n",
       "      <td>0</td>\n",
       "    </tr>\n",
       "    <tr>\n",
       "      <th>3</th>\n",
       "      <td>3</td>\n",
       "      <td>200004</td>\n",
       "      <td>en</td>\n",
       "      <td>@GMB this is unacceptable. Use her title as yo...</td>\n",
       "      <td>6</td>\n",
       "      <td>['Annotator_403', 'Annotator_404', 'Annotator_...</td>\n",
       "      <td>['F', 'F', 'M', 'M', 'M', 'F']</td>\n",
       "      <td>['18-22', '23-45', '18-22', '23-45', '46+', '4...</td>\n",
       "      <td>['YES', 'YES', 'NO', 'YES', 'NO', 'NO']</td>\n",
       "      <td>3</td>\n",
       "      <td>2</td>\n",
       "      <td>1</td>\n",
       "      <td>1</td>\n",
       "      <td>1</td>\n",
       "      <td>0</td>\n",
       "    </tr>\n",
       "    <tr>\n",
       "      <th>4</th>\n",
       "      <td>4</td>\n",
       "      <td>200005</td>\n",
       "      <td>en</td>\n",
       "      <td>‘Making yourself a harder target’ basically bo...</td>\n",
       "      <td>6</td>\n",
       "      <td>['Annotator_409', 'Annotator_410', 'Annotator_...</td>\n",
       "      <td>['F', 'F', 'M', 'M', 'M', 'F']</td>\n",
       "      <td>['18-22', '23-45', '18-22', '23-45', '46+', '4...</td>\n",
       "      <td>['YES', 'YES', 'NO', 'NO', 'NO', 'YES']</td>\n",
       "      <td>3</td>\n",
       "      <td>3</td>\n",
       "      <td>0</td>\n",
       "      <td>1</td>\n",
       "      <td>1</td>\n",
       "      <td>0</td>\n",
       "    </tr>\n",
       "  </tbody>\n",
       "</table>\n",
       "</div>"
      ],
      "text/plain": [
       "   Unnamed: 0      id lang                                              tweet  \\\n",
       "0           0  200001   en  FFS! How about laying the blame on the bastard...   \n",
       "1           1  200002   en  Writing a uni essay in my local pub with a cof...   \n",
       "2           2  200003   en  @UniversalORL it is 2021 not 1921. I dont appr...   \n",
       "3           3  200004   en  @GMB this is unacceptable. Use her title as yo...   \n",
       "4           4  200005   en  ‘Making yourself a harder target’ basically bo...   \n",
       "\n",
       "   number_annotators                                         annotators  \\\n",
       "0                  6  ['Annotator_391', 'Annotator_392', 'Annotator_...   \n",
       "1                  6  ['Annotator_391', 'Annotator_392', 'Annotator_...   \n",
       "2                  6  ['Annotator_397', 'Annotator_398', 'Annotator_...   \n",
       "3                  6  ['Annotator_403', 'Annotator_404', 'Annotator_...   \n",
       "4                  6  ['Annotator_409', 'Annotator_410', 'Annotator_...   \n",
       "\n",
       "                gender_annotators  \\\n",
       "0  ['F', 'F', 'M', 'M', 'M', 'F']   \n",
       "1  ['F', 'F', 'M', 'M', 'M', 'F']   \n",
       "2  ['F', 'F', 'M', 'M', 'M', 'F']   \n",
       "3  ['F', 'F', 'M', 'M', 'M', 'F']   \n",
       "4  ['F', 'F', 'M', 'M', 'M', 'F']   \n",
       "\n",
       "                                      age_annotators  \\\n",
       "0  ['18-22', '23-45', '18-22', '23-45', '46+', '4...   \n",
       "1  ['18-22', '23-45', '18-22', '23-45', '46+', '4...   \n",
       "2  ['18-22', '23-45', '18-22', '23-45', '46+', '4...   \n",
       "3  ['18-22', '23-45', '18-22', '23-45', '46+', '4...   \n",
       "4  ['18-22', '23-45', '18-22', '23-45', '46+', '4...   \n",
       "\n",
       "                                labels_task1  Total_vote  Total_female  \\\n",
       "0    ['YES', 'YES', 'NO', 'NO', 'YES', 'NO']           3             2   \n",
       "1  ['YES', 'YES', 'YES', 'NO', 'YES', 'YES']           5             3   \n",
       "2   ['YES', 'YES', 'NO', 'YES', 'NO', 'YES']           4             3   \n",
       "3    ['YES', 'YES', 'NO', 'YES', 'NO', 'NO']           3             2   \n",
       "4    ['YES', 'YES', 'NO', 'NO', 'NO', 'YES']           3             3   \n",
       "\n",
       "   Total_male  majority_vote  female_vote  male_vote  \n",
       "0           1              1            1          0  \n",
       "1           2              1            1          1  \n",
       "2           1              1            1          0  \n",
       "3           1              1            1          0  \n",
       "4           0              1            1          0  "
      ]
     },
     "execution_count": 3,
     "metadata": {},
     "output_type": "execute_result"
    }
   ],
   "source": [
    "data.head()"
   ]
  },
  {
   "cell_type": "markdown",
   "metadata": {},
   "source": [
    "Female Agreement Records"
   ]
  },
  {
   "cell_type": "code",
   "execution_count": 9,
   "metadata": {},
   "outputs": [],
   "source": [
    "filtered_df = data[(data[\"Total_female\"] == 3) | (data[\"Total_female\"] == 0)]"
   ]
  },
  {
   "cell_type": "code",
   "execution_count": 10,
   "metadata": {},
   "outputs": [],
   "source": [
    "filtered_df.to_excel(\"EXIST_2023/female_agreement_records.xlsx\")"
   ]
  },
  {
   "cell_type": "code",
   "execution_count": 11,
   "metadata": {},
   "outputs": [
    {
     "data": {
      "text/plain": [
       "1818"
      ]
     },
     "execution_count": 11,
     "metadata": {},
     "output_type": "execute_result"
    }
   ],
   "source": [
    "len(filtered_df)"
   ]
  },
  {
   "cell_type": "markdown",
   "metadata": {},
   "source": [
    "Male Agreement Records"
   ]
  },
  {
   "cell_type": "code",
   "execution_count": 12,
   "metadata": {},
   "outputs": [],
   "source": [
    "filtered_male = data[(data[\"Total_male\"] == 3) | (data[\"Total_male\"] == 0)]"
   ]
  },
  {
   "cell_type": "code",
   "execution_count": 13,
   "metadata": {},
   "outputs": [],
   "source": [
    "filtered_male.to_excel(\"EXIST_2023/male_agreement_records.xlsx\")"
   ]
  },
  {
   "cell_type": "code",
   "execution_count": 14,
   "metadata": {},
   "outputs": [
    {
     "data": {
      "text/plain": [
       "1687"
      ]
     },
     "execution_count": 14,
     "metadata": {},
     "output_type": "execute_result"
    }
   ],
   "source": [
    "len(filtered_male)"
   ]
  },
  {
   "cell_type": "markdown",
   "metadata": {},
   "source": [
    "Age Agreement"
   ]
  },
  {
   "cell_type": "code",
   "execution_count": 16,
   "metadata": {},
   "outputs": [],
   "source": [
    "import pandas as pd\n",
    "file_path = \"EXIST_2023/EXIST2023_Task1_age.xlsx\"\n",
    "df = pd.read_excel(file_path)"
   ]
  },
  {
   "cell_type": "code",
   "execution_count": 17,
   "metadata": {},
   "outputs": [
    {
     "data": {
      "text/html": [
       "<div>\n",
       "<style scoped>\n",
       "    .dataframe tbody tr th:only-of-type {\n",
       "        vertical-align: middle;\n",
       "    }\n",
       "\n",
       "    .dataframe tbody tr th {\n",
       "        vertical-align: top;\n",
       "    }\n",
       "\n",
       "    .dataframe thead th {\n",
       "        text-align: right;\n",
       "    }\n",
       "</style>\n",
       "<table border=\"1\" class=\"dataframe\">\n",
       "  <thead>\n",
       "    <tr style=\"text-align: right;\">\n",
       "      <th></th>\n",
       "      <th>Unnamed: 0</th>\n",
       "      <th>id</th>\n",
       "      <th>tweet</th>\n",
       "      <th>number_annotators</th>\n",
       "      <th>annotators</th>\n",
       "      <th>gender_annotators</th>\n",
       "      <th>age_annotators</th>\n",
       "      <th>labels_task1</th>\n",
       "      <th>Total_vote</th>\n",
       "      <th>Total_age1</th>\n",
       "      <th>Total_age2</th>\n",
       "      <th>Total_age3</th>\n",
       "      <th>majority_vote</th>\n",
       "      <th>age1_vote</th>\n",
       "      <th>age2_vote</th>\n",
       "      <th>age3_vote</th>\n",
       "    </tr>\n",
       "  </thead>\n",
       "  <tbody>\n",
       "    <tr>\n",
       "      <th>0</th>\n",
       "      <td>0</td>\n",
       "      <td>200001</td>\n",
       "      <td>FFS! How about laying the blame on the bastard...</td>\n",
       "      <td>6</td>\n",
       "      <td>['Annotator_391', 'Annotator_392', 'Annotator_...</td>\n",
       "      <td>['F', 'F', 'M', 'M', 'M', 'F']</td>\n",
       "      <td>['18-22', '23-45', '18-22', '23-45', '46+', '4...</td>\n",
       "      <td>['YES', 'YES', 'NO', 'NO', 'YES', 'NO']</td>\n",
       "      <td>3</td>\n",
       "      <td>1</td>\n",
       "      <td>1</td>\n",
       "      <td>1</td>\n",
       "      <td>1</td>\n",
       "      <td>0</td>\n",
       "      <td>0</td>\n",
       "      <td>0</td>\n",
       "    </tr>\n",
       "    <tr>\n",
       "      <th>1</th>\n",
       "      <td>1</td>\n",
       "      <td>200002</td>\n",
       "      <td>Writing a uni essay in my local pub with a cof...</td>\n",
       "      <td>6</td>\n",
       "      <td>['Annotator_391', 'Annotator_392', 'Annotator_...</td>\n",
       "      <td>['F', 'F', 'M', 'M', 'M', 'F']</td>\n",
       "      <td>['18-22', '23-45', '18-22', '23-45', '46+', '4...</td>\n",
       "      <td>['YES', 'YES', 'YES', 'NO', 'YES', 'YES']</td>\n",
       "      <td>5</td>\n",
       "      <td>2</td>\n",
       "      <td>1</td>\n",
       "      <td>2</td>\n",
       "      <td>1</td>\n",
       "      <td>1</td>\n",
       "      <td>0</td>\n",
       "      <td>1</td>\n",
       "    </tr>\n",
       "    <tr>\n",
       "      <th>2</th>\n",
       "      <td>2</td>\n",
       "      <td>200003</td>\n",
       "      <td>@UniversalORL it is 2021 not 1921. I dont appr...</td>\n",
       "      <td>6</td>\n",
       "      <td>['Annotator_397', 'Annotator_398', 'Annotator_...</td>\n",
       "      <td>['F', 'F', 'M', 'M', 'M', 'F']</td>\n",
       "      <td>['18-22', '23-45', '18-22', '23-45', '46+', '4...</td>\n",
       "      <td>['YES', 'YES', 'NO', 'YES', 'NO', 'YES']</td>\n",
       "      <td>4</td>\n",
       "      <td>1</td>\n",
       "      <td>2</td>\n",
       "      <td>1</td>\n",
       "      <td>1</td>\n",
       "      <td>0</td>\n",
       "      <td>1</td>\n",
       "      <td>0</td>\n",
       "    </tr>\n",
       "    <tr>\n",
       "      <th>3</th>\n",
       "      <td>3</td>\n",
       "      <td>200004</td>\n",
       "      <td>@GMB this is unacceptable. Use her title as yo...</td>\n",
       "      <td>6</td>\n",
       "      <td>['Annotator_403', 'Annotator_404', 'Annotator_...</td>\n",
       "      <td>['F', 'F', 'M', 'M', 'M', 'F']</td>\n",
       "      <td>['18-22', '23-45', '18-22', '23-45', '46+', '4...</td>\n",
       "      <td>['YES', 'YES', 'NO', 'YES', 'NO', 'NO']</td>\n",
       "      <td>3</td>\n",
       "      <td>1</td>\n",
       "      <td>2</td>\n",
       "      <td>0</td>\n",
       "      <td>1</td>\n",
       "      <td>0</td>\n",
       "      <td>1</td>\n",
       "      <td>0</td>\n",
       "    </tr>\n",
       "    <tr>\n",
       "      <th>4</th>\n",
       "      <td>4</td>\n",
       "      <td>200005</td>\n",
       "      <td>‘Making yourself a harder target’ basically bo...</td>\n",
       "      <td>6</td>\n",
       "      <td>['Annotator_409', 'Annotator_410', 'Annotator_...</td>\n",
       "      <td>['F', 'F', 'M', 'M', 'M', 'F']</td>\n",
       "      <td>['18-22', '23-45', '18-22', '23-45', '46+', '4...</td>\n",
       "      <td>['YES', 'YES', 'NO', 'NO', 'NO', 'YES']</td>\n",
       "      <td>3</td>\n",
       "      <td>1</td>\n",
       "      <td>1</td>\n",
       "      <td>1</td>\n",
       "      <td>1</td>\n",
       "      <td>0</td>\n",
       "      <td>0</td>\n",
       "      <td>0</td>\n",
       "    </tr>\n",
       "  </tbody>\n",
       "</table>\n",
       "</div>"
      ],
      "text/plain": [
       "   Unnamed: 0      id                                              tweet  \\\n",
       "0           0  200001  FFS! How about laying the blame on the bastard...   \n",
       "1           1  200002  Writing a uni essay in my local pub with a cof...   \n",
       "2           2  200003  @UniversalORL it is 2021 not 1921. I dont appr...   \n",
       "3           3  200004  @GMB this is unacceptable. Use her title as yo...   \n",
       "4           4  200005  ‘Making yourself a harder target’ basically bo...   \n",
       "\n",
       "   number_annotators                                         annotators  \\\n",
       "0                  6  ['Annotator_391', 'Annotator_392', 'Annotator_...   \n",
       "1                  6  ['Annotator_391', 'Annotator_392', 'Annotator_...   \n",
       "2                  6  ['Annotator_397', 'Annotator_398', 'Annotator_...   \n",
       "3                  6  ['Annotator_403', 'Annotator_404', 'Annotator_...   \n",
       "4                  6  ['Annotator_409', 'Annotator_410', 'Annotator_...   \n",
       "\n",
       "                gender_annotators  \\\n",
       "0  ['F', 'F', 'M', 'M', 'M', 'F']   \n",
       "1  ['F', 'F', 'M', 'M', 'M', 'F']   \n",
       "2  ['F', 'F', 'M', 'M', 'M', 'F']   \n",
       "3  ['F', 'F', 'M', 'M', 'M', 'F']   \n",
       "4  ['F', 'F', 'M', 'M', 'M', 'F']   \n",
       "\n",
       "                                      age_annotators  \\\n",
       "0  ['18-22', '23-45', '18-22', '23-45', '46+', '4...   \n",
       "1  ['18-22', '23-45', '18-22', '23-45', '46+', '4...   \n",
       "2  ['18-22', '23-45', '18-22', '23-45', '46+', '4...   \n",
       "3  ['18-22', '23-45', '18-22', '23-45', '46+', '4...   \n",
       "4  ['18-22', '23-45', '18-22', '23-45', '46+', '4...   \n",
       "\n",
       "                                labels_task1  Total_vote  Total_age1  \\\n",
       "0    ['YES', 'YES', 'NO', 'NO', 'YES', 'NO']           3           1   \n",
       "1  ['YES', 'YES', 'YES', 'NO', 'YES', 'YES']           5           2   \n",
       "2   ['YES', 'YES', 'NO', 'YES', 'NO', 'YES']           4           1   \n",
       "3    ['YES', 'YES', 'NO', 'YES', 'NO', 'NO']           3           1   \n",
       "4    ['YES', 'YES', 'NO', 'NO', 'NO', 'YES']           3           1   \n",
       "\n",
       "   Total_age2  Total_age3  majority_vote  age1_vote  age2_vote  age3_vote  \n",
       "0           1           1              1          0          0          0  \n",
       "1           1           2              1          1          0          1  \n",
       "2           2           1              1          0          1          0  \n",
       "3           2           0              1          0          1          0  \n",
       "4           1           1              1          0          0          0  "
      ]
     },
     "execution_count": 17,
     "metadata": {},
     "output_type": "execute_result"
    }
   ],
   "source": [
    "df.head()"
   ]
  },
  {
   "cell_type": "markdown",
   "metadata": {},
   "source": [
    "Age1"
   ]
  },
  {
   "cell_type": "code",
   "execution_count": 21,
   "metadata": {},
   "outputs": [],
   "source": [
    "filtered_age1 = df[(df[\"Total_age1\"] == 2) | (df[\"Total_age1\"] == 0)]"
   ]
  },
  {
   "cell_type": "code",
   "execution_count": 22,
   "metadata": {},
   "outputs": [],
   "source": [
    "filtered_age1.to_excel(\"EXIST_2023/age1_agreement_records.xlsx\")"
   ]
  },
  {
   "cell_type": "code",
   "execution_count": 23,
   "metadata": {},
   "outputs": [
    {
     "data": {
      "text/plain": [
       "2307"
      ]
     },
     "execution_count": 23,
     "metadata": {},
     "output_type": "execute_result"
    }
   ],
   "source": [
    "len(filtered_age1)"
   ]
  },
  {
   "cell_type": "markdown",
   "metadata": {},
   "source": [
    "Age2"
   ]
  },
  {
   "cell_type": "code",
   "execution_count": 24,
   "metadata": {},
   "outputs": [],
   "source": [
    "filtered_age2 = df[(df[\"Total_age2\"] == 2) | (df[\"Total_age2\"] == 0)]"
   ]
  },
  {
   "cell_type": "code",
   "execution_count": 25,
   "metadata": {},
   "outputs": [],
   "source": [
    "filtered_age2.to_excel(\"EXIST_2023/age2_agreement_records.xlsx\")"
   ]
  },
  {
   "cell_type": "code",
   "execution_count": 26,
   "metadata": {},
   "outputs": [
    {
     "data": {
      "text/plain": [
       "2313"
      ]
     },
     "execution_count": 26,
     "metadata": {},
     "output_type": "execute_result"
    }
   ],
   "source": [
    "len(filtered_age2)"
   ]
  },
  {
   "cell_type": "markdown",
   "metadata": {},
   "source": [
    "Age3"
   ]
  },
  {
   "cell_type": "code",
   "execution_count": 27,
   "metadata": {},
   "outputs": [],
   "source": [
    "filtered_age3 = df[(df[\"Total_age3\"] == 2) | (df[\"Total_age3\"] == 0)]"
   ]
  },
  {
   "cell_type": "code",
   "execution_count": 28,
   "metadata": {},
   "outputs": [],
   "source": [
    "filtered_age3.to_excel(\"EXIST_2023/age3_agreement_records.xlsx\")"
   ]
  },
  {
   "cell_type": "code",
   "execution_count": 29,
   "metadata": {},
   "outputs": [
    {
     "data": {
      "text/plain": [
       "2285"
      ]
     },
     "execution_count": 29,
     "metadata": {},
     "output_type": "execute_result"
    }
   ],
   "source": [
    "len(filtered_age3)"
   ]
  }
 ],
 "metadata": {
  "kernelspec": {
   "display_name": "Python 3",
   "language": "python",
   "name": "python3"
  },
  "language_info": {
   "codemirror_mode": {
    "name": "ipython",
    "version": 3
   },
   "file_extension": ".py",
   "mimetype": "text/x-python",
   "name": "python",
   "nbconvert_exporter": "python",
   "pygments_lexer": "ipython3",
   "version": "3.9.6"
  }
 },
 "nbformat": 4,
 "nbformat_minor": 2
}
